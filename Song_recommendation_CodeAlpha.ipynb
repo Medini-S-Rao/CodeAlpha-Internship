{
 "cells": [
  {
   "cell_type": "code",
   "execution_count": 5,
   "id": "e1b629a8",
   "metadata": {},
   "outputs": [
    {
     "name": "stdout",
     "output_type": "stream",
     "text": [
      "Triplets DataFrame:\n",
      "                                    user_id             song_id  listen_count\n",
      "0  b80344d063b5ccb3212f76538f3d9e43d87dca9e  SOAKIMP12A8C130995             1\n",
      "1  b80344d063b5ccb3212f76538f3d9e43d87dca9e  SOBBMDR12A8C13253B             2\n",
      "2  b80344d063b5ccb3212f76538f3d9e43d87dca9e  SOBXHDL12A81C204C0             1\n",
      "3  b80344d063b5ccb3212f76538f3d9e43d87dca9e  SOBYHAJ12A6701BF1D             1\n",
      "4  b80344d063b5ccb3212f76538f3d9e43d87dca9e  SODACBL12A8C13C273             1\n",
      "\n",
      "Song Data DataFrame:\n",
      "              song_id              title  \\\n",
      "0  SOQMMHC12AB0180CB8       Silent Night   \n",
      "1  SOVFVAK12A8C1350D9        Tanssi vaan   \n",
      "2  SOGTUKN12AB017F4F1  No One Could Ever   \n",
      "3  SOBNYVR12A8C13558C      Si Vos Querés   \n",
      "4  SOHSBXH12A8C13B0DF   Tangle Of Aspens   \n",
      "\n",
      "                                release       artist_name  year  \n",
      "0                 Monster Ballads X-Mas  Faster Pussy cat  2003  \n",
      "1                           Karkuteillä  Karkkiautomaatti  1995  \n",
      "2                                Butter    Hudson Mohawke  2006  \n",
      "3                               De Culo       Yerba Brava  2003  \n",
      "4  Rene Ablaze Presents Winter Sessions        Der Mystic     0  \n",
      "\n",
      "Merged DataFrame:\n",
      "                                    user_id             song_id  listen_count  \\\n",
      "0  b80344d063b5ccb3212f76538f3d9e43d87dca9e  SOAKIMP12A8C130995             1   \n",
      "1  b80344d063b5ccb3212f76538f3d9e43d87dca9e  SOBBMDR12A8C13253B             2   \n",
      "2  b80344d063b5ccb3212f76538f3d9e43d87dca9e  SOBXHDL12A81C204C0             1   \n",
      "3  b80344d063b5ccb3212f76538f3d9e43d87dca9e  SOBXHDL12A81C204C0             1   \n",
      "4  b80344d063b5ccb3212f76538f3d9e43d87dca9e  SOBYHAJ12A6701BF1D             1   \n",
      "\n",
      "             title              release    artist_name  year  \n",
      "0         The Cove   Thicker Than Water   Jack Johnson     0  \n",
      "1  Entre Dos Aguas  Flamenco Para Niños  Paco De Lucia  1976  \n",
      "2         Stronger           Graduation     Kanye West  2007  \n",
      "3         Stronger           Graduation     Kanye West  2007  \n",
      "4   Constellations    In Between Dreams   Jack Johnson  2005  \n"
     ]
    }
   ],
   "source": [
    "import pandas as pd\n",
    "\n",
    "\n",
    "dtype_triplets = {'user_id': str, 'song_id': str, 'listen_count': int}\n",
    "\n",
    "\n",
    "triplets_df = pd.read_csv(triplets_file_path, header=0, names=['user_id', 'song_id', 'listen_count'], dtype=dtype_triplets)\n",
    "song_data_df = pd.read_csv(song_data_file_path)\n",
    "\n",
    "print(\"Triplets DataFrame:\")\n",
    "print(triplets_df.head())\n",
    "\n",
    "print(\"\\nSong Data DataFrame:\")\n",
    "print(song_data_df.head())\n",
    "\n",
    "\n",
    "merged_df = pd.merge(triplets_df, song_data_df, on='song_id', how='left')\n",
    "\n",
    "\n",
    "print(\"\\nMerged DataFrame:\")\n",
    "print(merged_df.head())\n"
   ]
  },
  {
   "cell_type": "code",
   "execution_count": null,
   "id": "ed05616b",
   "metadata": {},
   "outputs": [],
   "source": [
    "from scipy.sparse import csr_matrix\n",
    "from sklearn.model_selection import train_test_split\n",
    "\n",
    "\n",
    "aggregated_df = merged_df.groupby(['user_id', 'song_id']).agg({'listen_count': 'sum'}).reset_index()\n",
    "\n",
    "\n",
    "user_song_matrix = aggregated_df.pivot(index='user_id', columns='song_id', values='listen_count').fillna(0)\n",
    "\n",
    "user_song_sparse_matrix = csr_matrix(user_song_matrix.values)\n",
    "\n",
    "\n",
    "train_data, test_data = train_test_split(user_song_sparse_matrix, test_size=0.2, random_state=42)\n",
    "\n",
    "print(\"Data preparation complete. Ready for model training.\")"
   ]
  },
  {
   "cell_type": "code",
   "execution_count": 9,
   "id": "40e39eaf",
   "metadata": {},
   "outputs": [
    {
     "name": "stdout",
     "output_type": "stream",
     "text": [
      "RMSE: 2209.8328\n"
     ]
    },
    {
     "data": {
      "text/plain": [
       "2209.8328178818188"
      ]
     },
     "execution_count": 9,
     "metadata": {},
     "output_type": "execute_result"
    }
   ],
   "source": [
    "from surprise import Dataset, Reader, SVD, accuracy\n",
    "from surprise.model_selection import train_test_split as surprise_train_test_split\n",
    "import pandas as pd\n",
    "\n",
    "\n",
    "reader = Reader(rating_scale=(1, aggregated_df['listen_count'].max()))\n",
    "data = Dataset.load_from_df(aggregated_df[['user_id', 'song_id', 'listen_count']], reader)\n",
    "\n",
    "\n",
    "trainset, testset = surprise_train_test_split(data, test_size=0.2, random_state=42)\n",
    "\n",
    "\n",
    "svd = SVD()\n",
    "svd.fit(trainset)\n",
    "predictions = svd.test(testset)\n",
    "\n",
    "accuracy.rmse(predictions)\n"
   ]
  },
  {
   "cell_type": "code",
   "execution_count": 11,
   "id": "fddf9add",
   "metadata": {},
   "outputs": [
    {
     "name": "stdout",
     "output_type": "stream",
     "text": [
      "Top 10 Recommendations for User: b80344d063b5ccb3212f76538f3d9e43d87dca9e\n",
      "                   song_id                          title  \\\n",
      "133174  SOBXHDL12A81C204C0                       Stronger   \n",
      "147425  SOHQWYZ12A6D4FA701  Heaven's gonna burn your eyes   \n",
      "176820  SOUKXIN12A8C133C7F                          Drive   \n",
      "248353  SOXZQDE12A8C135833                     Right Back   \n",
      "523183  SOVYIYI12A8C138D88            He Doesn't Know Why   \n",
      "531659  SOQLCKR12A81C22440                Jewels And Gold   \n",
      "594489  SOBXHDL12A81C204C0                       Stronger   \n",
      "922538  SOWSPUS12AC468BEE3            Bigger Isn't Better   \n",
      "\n",
      "                                        artist_name  \n",
      "133174                                   Kanye West  \n",
      "147425  Thievery Corporation feat. Emiliana Torrini  \n",
      "176820                                      Incubus  \n",
      "248353                                      Sublime  \n",
      "523183                                  Fleet Foxes  \n",
      "531659                          Angus & Julia Stone  \n",
      "594489                                   Kanye West  \n",
      "922538                   The String Cheese Incident  \n"
     ]
    }
   ],
   "source": [
    "def get_top_n_recommendations(predictions, user_id, n=10):\n",
    "  \n",
    "    user_predictions = [pred for pred in predictions if pred.uid == user_id]\n",
    "    user_predictions.sort(key=lambda x: x.est, reverse=True)\n",
    "    \n",
    "    \n",
    "    top_n_songs = user_predictions[:n]\n",
    "    top_n_song_ids = [pred.iid for pred in top_n_songs]\n",
    "    \n",
    "   \n",
    "    return song_data_df[song_data_df['song_id'].isin(top_n_song_ids)][['song_id', 'title', 'artist_name']]\n",
    "\n",
    "\n",
    "user_id = 'b80344d063b5ccb3212f76538f3d9e43d87dca9e'  \n",
    "top_recommendations = get_top_n_recommendations(predictions, user_id, n=10)\n",
    "print(\"Top 10 Recommendations for User:\", user_id)\n",
    "print(top_recommendations)\n"
   ]
  },
  {
   "cell_type": "code",
   "execution_count": null,
   "id": "a994bc4e",
   "metadata": {},
   "outputs": [],
   "source": []
  }
 ],
 "metadata": {
  "kernelspec": {
   "display_name": "Python 3 (ipykernel)",
   "language": "python",
   "name": "python3"
  },
  "language_info": {
   "codemirror_mode": {
    "name": "ipython",
    "version": 3
   },
   "file_extension": ".py",
   "mimetype": "text/x-python",
   "name": "python",
   "nbconvert_exporter": "python",
   "pygments_lexer": "ipython3",
   "version": "3.11.5"
  }
 },
 "nbformat": 4,
 "nbformat_minor": 5
}
